{
  "cells": [
    {
      "cell_type": "markdown",
      "metadata": {
        "id": "view-in-github",
        "colab_type": "text"
      },
      "source": [
        "<a href=\"https://colab.research.google.com/github/HelenaHime/PADSW06MDCD/blob/main/Revisao.ipynb\" target=\"_parent\"><img src=\"https://colab.research.google.com/assets/colab-badge.svg\" alt=\"Open In Colab\"/></a>"
      ]
    },
    {
      "cell_type": "markdown",
      "metadata": {
        "id": "Gn9j8fTNpiRu"
      },
      "source": [
        "# Revisão Rápida - Python\n"
      ]
    },
    {
      "cell_type": "markdown",
      "metadata": {
        "id": "Wg5DVAM8piRv"
      },
      "source": [
        "## **Antes de começarmos**\n",
        "\n",
        "1. Crie uma conta no GitHub: https://github.com/signup?source=login ou caso já tenha uma conta, faça a autenticação do seu usuário.\n",
        "2. Crie um repositório para utilizarmos durante as aulas. Este repositório precisa ter um arquivo \"README\", logo, marque a opção **\"Add a README file\"**.\n",
        "3. O nome pode do seu repositório pode ser **PADSW06MDCD**, por exemplo.\n",
        "4. Nesta Janela (que estamos agora), clique em Arquivo > Salvar uma Cópia no GitHub\n",
        "5. Em seguida, duas coisas podem acontecer (i) um **popup aparecer**: solicitando que você autorize o acesso ao seu **GitHub** por sua conta do **Colab** ou (ii) caso apareça alguma mensagem de erro, clique em \"Abrir em uma nova janela\".\n",
        "6. Em ambos os casos: autorize o acesso a sua conta do **GitHub**\n",
        "7. Por fim, escolha o repositório criado anteriormente e digite um comentário que represente a versão do seu projeto. Neste caso, pode ser. \"Copiando a lista de revisão\".\n",
        "\n",
        "\n",
        "- Google Colab\n",
        "    - colab.research.google.com/\n",
        "\n",
        "#### Sintáxe Básica Markdown\n",
        "\n",
        "[Material Aqui](https://www.markdownguide.org/basic-syntax/)\n",
        "\n",
        "Dicas Básicas de Sintáxe\n",
        "\n",
        "- Não utiliza ;\n",
        "- comentários podem ser feitos utilizando #\n",
        "- Variáveis precisam ser inicializada antes de seu uso\n",
        "- Podemos utilizar variáveis literais ou objetos\n",
        "- operações matemáticas básicas: + - / * ** %\n",
        "- Valor nulo é escrito como **None**\n",
        "- Blocos de códigos ou funções devem ter sempre *identação* ou seja, devem ter um tab para medir cada escopo\n",
        "- Blocos vazios devem conter pelo menos um comando **pass**\n",
        "- Saídas de dados podem ser feitas em sua maioria com o comando **print**, no entanto, saídas mais complexas funcionam sempre com **display**\n",
        "- Python possui tipagem "
      ]
    },
    {
      "cell_type": "markdown",
      "metadata": {
        "id": "v9b_KRsVpiRw"
      },
      "source": [
        "### Variáveis/Objetos\n",
        "\n",
        "- Crie um conjunto de variáveis para cada um dos tipos: número inteiro, string, booleano e número real\n",
        "- Exiba o conteúdo de uma destas variáveis e exiba o tipo de outra variável"
      ]
    },
    {
      "cell_type": "code",
      "execution_count": null,
      "metadata": {
        "id": "GI2fccBupiRw"
      },
      "outputs": [],
      "source": [
        "#@title Ver exemplo\n",
        "numero_vendas = 23000\n",
        "nome_disciplina = 'Métodos de Design para Ciência de Dados'\n",
        "nome_instituicao = \"Insper\"\n",
        "possui_diploma = True\n",
        "receita_bruta = 312312.24\n",
        "\n",
        "print(receita_bruta) #Saída de Dados\n",
        "print(type(possui_diploma)) #como verificar o tipo de dado | pode utilizar display () também"
      ]
    },
    {
      "cell_type": "code",
      "source": [
        "#Variável numérica\n",
        "numero = 2\n",
        "string = 'casa'\n",
        "boolean = False\n",
        "float_ = 3.14\n",
        "\n",
        "print(numero)\n",
        "\n",
        "type(boolean)\n"
      ],
      "metadata": {
        "id": "GiPavqmeTQtb",
        "colab": {
          "base_uri": "https://localhost:8080/"
        },
        "outputId": "1c6f3838-76d6-4ae7-eb20-1273ac57b28c"
      },
      "execution_count": 3,
      "outputs": [
        {
          "output_type": "stream",
          "name": "stdout",
          "text": [
            "2\n"
          ]
        },
        {
          "output_type": "execute_result",
          "data": {
            "text/plain": [
              "bool"
            ]
          },
          "metadata": {},
          "execution_count": 3
        }
      ]
    },
    {
      "cell_type": "markdown",
      "metadata": {
        "id": "DSUCJHb9piRx"
      },
      "source": [
        "### Entrada e Saída de Dados\n",
        "\n",
        "- Realize a leitura de um dado do tipo String e exiba este texto apenas com letras maísculas\n",
        "\n",
        "Dica.: Métodos de uma String em Python\n",
        "https://www.w3schools.com/python/python_ref_string.asp\n"
      ]
    },
    {
      "cell_type": "code",
      "execution_count": 4,
      "metadata": {
        "id": "E7sOsU7kpiRy",
        "colab": {
          "base_uri": "https://localhost:8080/",
          "height": 536
        },
        "outputId": "b7a60134-5c8f-4b20-e685-c72f372fcfa5"
      },
      "outputs": [
        {
          "output_type": "error",
          "ename": "KeyboardInterrupt",
          "evalue": "ignored",
          "traceback": [
            "\u001b[0;31m---------------------------------------------------------------------------\u001b[0m",
            "\u001b[0;31mKeyboardInterrupt\u001b[0m                         Traceback (most recent call last)",
            "\u001b[0;32m/usr/local/lib/python3.7/dist-packages/ipykernel/kernelbase.py\u001b[0m in \u001b[0;36m_input_request\u001b[0;34m(self, prompt, ident, parent, password)\u001b[0m\n\u001b[1;32m    728\u001b[0m             \u001b[0;32mtry\u001b[0m\u001b[0;34m:\u001b[0m\u001b[0;34m\u001b[0m\u001b[0;34m\u001b[0m\u001b[0m\n\u001b[0;32m--> 729\u001b[0;31m                 \u001b[0mident\u001b[0m\u001b[0;34m,\u001b[0m \u001b[0mreply\u001b[0m \u001b[0;34m=\u001b[0m \u001b[0mself\u001b[0m\u001b[0;34m.\u001b[0m\u001b[0msession\u001b[0m\u001b[0;34m.\u001b[0m\u001b[0mrecv\u001b[0m\u001b[0;34m(\u001b[0m\u001b[0mself\u001b[0m\u001b[0;34m.\u001b[0m\u001b[0mstdin_socket\u001b[0m\u001b[0;34m,\u001b[0m \u001b[0;36m0\u001b[0m\u001b[0;34m)\u001b[0m\u001b[0;34m\u001b[0m\u001b[0;34m\u001b[0m\u001b[0m\n\u001b[0m\u001b[1;32m    730\u001b[0m             \u001b[0;32mexcept\u001b[0m \u001b[0mException\u001b[0m\u001b[0;34m:\u001b[0m\u001b[0;34m\u001b[0m\u001b[0;34m\u001b[0m\u001b[0m\n",
            "\u001b[0;32m/usr/local/lib/python3.7/dist-packages/jupyter_client/session.py\u001b[0m in \u001b[0;36mrecv\u001b[0;34m(self, socket, mode, content, copy)\u001b[0m\n\u001b[1;32m    802\u001b[0m         \u001b[0;32mtry\u001b[0m\u001b[0;34m:\u001b[0m\u001b[0;34m\u001b[0m\u001b[0;34m\u001b[0m\u001b[0m\n\u001b[0;32m--> 803\u001b[0;31m             \u001b[0mmsg_list\u001b[0m \u001b[0;34m=\u001b[0m \u001b[0msocket\u001b[0m\u001b[0;34m.\u001b[0m\u001b[0mrecv_multipart\u001b[0m\u001b[0;34m(\u001b[0m\u001b[0mmode\u001b[0m\u001b[0;34m,\u001b[0m \u001b[0mcopy\u001b[0m\u001b[0;34m=\u001b[0m\u001b[0mcopy\u001b[0m\u001b[0;34m)\u001b[0m\u001b[0;34m\u001b[0m\u001b[0;34m\u001b[0m\u001b[0m\n\u001b[0m\u001b[1;32m    804\u001b[0m         \u001b[0;32mexcept\u001b[0m \u001b[0mzmq\u001b[0m\u001b[0;34m.\u001b[0m\u001b[0mZMQError\u001b[0m \u001b[0;32mas\u001b[0m \u001b[0me\u001b[0m\u001b[0;34m:\u001b[0m\u001b[0;34m\u001b[0m\u001b[0;34m\u001b[0m\u001b[0m\n",
            "\u001b[0;32m/usr/local/lib/python3.7/dist-packages/zmq/sugar/socket.py\u001b[0m in \u001b[0;36mrecv_multipart\u001b[0;34m(self, flags, copy, track)\u001b[0m\n\u001b[1;32m    726\u001b[0m         \"\"\"\n\u001b[0;32m--> 727\u001b[0;31m         \u001b[0mparts\u001b[0m \u001b[0;34m=\u001b[0m \u001b[0;34m[\u001b[0m\u001b[0mself\u001b[0m\u001b[0;34m.\u001b[0m\u001b[0mrecv\u001b[0m\u001b[0;34m(\u001b[0m\u001b[0mflags\u001b[0m\u001b[0;34m,\u001b[0m \u001b[0mcopy\u001b[0m\u001b[0;34m=\u001b[0m\u001b[0mcopy\u001b[0m\u001b[0;34m,\u001b[0m \u001b[0mtrack\u001b[0m\u001b[0;34m=\u001b[0m\u001b[0mtrack\u001b[0m\u001b[0;34m)\u001b[0m\u001b[0;34m]\u001b[0m\u001b[0;34m\u001b[0m\u001b[0;34m\u001b[0m\u001b[0m\n\u001b[0m\u001b[1;32m    728\u001b[0m         \u001b[0;31m# have first part already, only loop while more to receive\u001b[0m\u001b[0;34m\u001b[0m\u001b[0;34m\u001b[0m\u001b[0;34m\u001b[0m\u001b[0m\n",
            "\u001b[0;32mzmq/backend/cython/socket.pyx\u001b[0m in \u001b[0;36mzmq.backend.cython.socket.Socket.recv\u001b[0;34m()\u001b[0m\n",
            "\u001b[0;32mzmq/backend/cython/socket.pyx\u001b[0m in \u001b[0;36mzmq.backend.cython.socket.Socket.recv\u001b[0;34m()\u001b[0m\n",
            "\u001b[0;32mzmq/backend/cython/socket.pyx\u001b[0m in \u001b[0;36mzmq.backend.cython.socket._recv_copy\u001b[0;34m()\u001b[0m\n",
            "\u001b[0;32m/usr/local/lib/python3.7/dist-packages/zmq/backend/cython/checkrc.pxd\u001b[0m in \u001b[0;36mzmq.backend.cython.checkrc._check_rc\u001b[0;34m()\u001b[0m\n",
            "\u001b[0;31mKeyboardInterrupt\u001b[0m: ",
            "\nDuring handling of the above exception, another exception occurred:\n",
            "\u001b[0;31mKeyboardInterrupt\u001b[0m                         Traceback (most recent call last)",
            "\u001b[0;32m<ipython-input-4-1f3f6bc37939>\u001b[0m in \u001b[0;36m<module>\u001b[0;34m()\u001b[0m\n\u001b[1;32m      1\u001b[0m \u001b[0;31m#@title Ver exemplo\u001b[0m\u001b[0;34m\u001b[0m\u001b[0;34m\u001b[0m\u001b[0;34m\u001b[0m\u001b[0m\n\u001b[0;32m----> 2\u001b[0;31m \u001b[0mnome_usuario\u001b[0m \u001b[0;34m=\u001b[0m \u001b[0minput\u001b[0m\u001b[0;34m(\u001b[0m\u001b[0;34m'Insira um nome aqui:'\u001b[0m\u001b[0;34m)\u001b[0m \u001b[0;31m#para ler dados do usuário\u001b[0m\u001b[0;34m\u001b[0m\u001b[0;34m\u001b[0m\u001b[0m\n\u001b[0m\u001b[1;32m      3\u001b[0m \u001b[0mprint\u001b[0m\u001b[0;34m(\u001b[0m\u001b[0;34m'Nome com letras maísculas: '\u001b[0m\u001b[0;34m,\u001b[0m \u001b[0mnome_usuario\u001b[0m\u001b[0;34m.\u001b[0m\u001b[0mupper\u001b[0m\u001b[0;34m(\u001b[0m\u001b[0;34m)\u001b[0m\u001b[0;34m)\u001b[0m \u001b[0;31m#printando nome e mostrando tudo em letra maiúscula\u001b[0m\u001b[0;34m\u001b[0m\u001b[0;34m\u001b[0m\u001b[0m\n",
            "\u001b[0;32m/usr/local/lib/python3.7/dist-packages/ipykernel/kernelbase.py\u001b[0m in \u001b[0;36mraw_input\u001b[0;34m(self, prompt)\u001b[0m\n\u001b[1;32m    702\u001b[0m             \u001b[0mself\u001b[0m\u001b[0;34m.\u001b[0m\u001b[0m_parent_ident\u001b[0m\u001b[0;34m,\u001b[0m\u001b[0;34m\u001b[0m\u001b[0;34m\u001b[0m\u001b[0m\n\u001b[1;32m    703\u001b[0m             \u001b[0mself\u001b[0m\u001b[0;34m.\u001b[0m\u001b[0m_parent_header\u001b[0m\u001b[0;34m,\u001b[0m\u001b[0;34m\u001b[0m\u001b[0;34m\u001b[0m\u001b[0m\n\u001b[0;32m--> 704\u001b[0;31m             \u001b[0mpassword\u001b[0m\u001b[0;34m=\u001b[0m\u001b[0;32mFalse\u001b[0m\u001b[0;34m,\u001b[0m\u001b[0;34m\u001b[0m\u001b[0;34m\u001b[0m\u001b[0m\n\u001b[0m\u001b[1;32m    705\u001b[0m         )\n\u001b[1;32m    706\u001b[0m \u001b[0;34m\u001b[0m\u001b[0m\n",
            "\u001b[0;32m/usr/local/lib/python3.7/dist-packages/ipykernel/kernelbase.py\u001b[0m in \u001b[0;36m_input_request\u001b[0;34m(self, prompt, ident, parent, password)\u001b[0m\n\u001b[1;32m    732\u001b[0m             \u001b[0;32mexcept\u001b[0m \u001b[0mKeyboardInterrupt\u001b[0m\u001b[0;34m:\u001b[0m\u001b[0;34m\u001b[0m\u001b[0;34m\u001b[0m\u001b[0m\n\u001b[1;32m    733\u001b[0m                 \u001b[0;31m# re-raise KeyboardInterrupt, to truncate traceback\u001b[0m\u001b[0;34m\u001b[0m\u001b[0;34m\u001b[0m\u001b[0;34m\u001b[0m\u001b[0m\n\u001b[0;32m--> 734\u001b[0;31m                 \u001b[0;32mraise\u001b[0m \u001b[0mKeyboardInterrupt\u001b[0m\u001b[0;34m\u001b[0m\u001b[0;34m\u001b[0m\u001b[0m\n\u001b[0m\u001b[1;32m    735\u001b[0m             \u001b[0;32melse\u001b[0m\u001b[0;34m:\u001b[0m\u001b[0;34m\u001b[0m\u001b[0;34m\u001b[0m\u001b[0m\n\u001b[1;32m    736\u001b[0m                 \u001b[0;32mbreak\u001b[0m\u001b[0;34m\u001b[0m\u001b[0;34m\u001b[0m\u001b[0m\n",
            "\u001b[0;31mKeyboardInterrupt\u001b[0m: "
          ]
        }
      ],
      "source": [
        "#@title Ver exemplo\n",
        "nome_usuario = input('Insira um nome aqui:') #para ler dados do usuário\n",
        "print('Nome com letras maísculas: ', nome_usuario.upper()) #printando nome e mostrando tudo em letra maiúscula"
      ]
    },
    {
      "cell_type": "code",
      "source": [
        "nome = input(\"Qual o seu nome?\")\n",
        "\n",
        "print(nome.upper())\n",
        "\n"
      ],
      "metadata": {
        "id": "YzKhsr3-X_gp",
        "colab": {
          "base_uri": "https://localhost:8080/"
        },
        "outputId": "fe7ef17b-5138-4776-d83e-9ba1c3224a3a"
      },
      "execution_count": 6,
      "outputs": [
        {
          "output_type": "stream",
          "name": "stdout",
          "text": [
            "Qual o seu nome?Helena\n",
            "HELENA\n"
          ]
        }
      ]
    },
    {
      "cell_type": "markdown",
      "source": [
        "- Realize a leitura de um dado do tipo inteiro, alocaondo-o em uma variável e exiba o conteúdo desta variável no meio de um texto."
      ],
      "metadata": {
        "id": "9nPDCl5GS81e"
      }
    },
    {
      "cell_type": "code",
      "source": [
        "#@title Ver exemplo\n",
        "idade_usuario = int(input(\"Informe sua idade: \")) #lembrar de fazer um casting para o tipo de dado\n",
        "print(f'Você possuí {idade_usuario} de idade')"
      ],
      "metadata": {
        "id": "yOFQ47RqqcPG",
        "cellView": "form"
      },
      "execution_count": null,
      "outputs": []
    },
    {
      "cell_type": "code",
      "source": [
        "inteiro = input(\"Digite um número inteiro\")\n",
        "\n",
        "print(f\"o prazo vence em {inteiro} dias\")"
      ],
      "metadata": {
        "id": "9M9RR3aKX_EZ",
        "colab": {
          "base_uri": "https://localhost:8080/"
        },
        "outputId": "000fe36c-c217-4596-c9b1-a1243cf89645"
      },
      "execution_count": 7,
      "outputs": [
        {
          "output_type": "stream",
          "name": "stdout",
          "text": [
            "Digite um número inteiro3\n",
            "o prazo vence em 3 dias\n"
          ]
        }
      ]
    },
    {
      "cell_type": "markdown",
      "source": [
        "- Crie um par de constantes reais e exiba o resultado de uma operação matemática, utilizando estas constantes em uma saída de dados (utilizando print). Após isso, garanta que o resultado do cálculo tenha apenas duas casas decimáis."
      ],
      "metadata": {
        "id": "XoObw2t6TU4X"
      }
    },
    {
      "cell_type": "code",
      "execution_count": null,
      "metadata": {
        "id": "f2H0h7rUpiRy",
        "cellView": "form"
      },
      "outputs": [],
      "source": [
        "#@title Ver exemplo\n",
        "pi = 3.1415926535\n",
        "salario = 15341.14\n",
        "print('O novo salário: R${0:.2f}, após o aumento, é de: R${1:.2f}'.format(salario, salario * pi)) #outra forma de utilizar variáveis com dados"
      ]
    },
    {
      "cell_type": "code",
      "source": [
        "preco = 3.17\n",
        "quant = 5.84\n",
        "\n",
        "custo = preco*quant\n",
        "\n",
        "print(round(custo,2))"
      ],
      "metadata": {
        "id": "bFjZrjaTTiGk",
        "colab": {
          "base_uri": "https://localhost:8080/"
        },
        "outputId": "c6568326-977a-446d-813d-d524adf0f445"
      },
      "execution_count": 9,
      "outputs": [
        {
          "output_type": "stream",
          "name": "stdout",
          "text": [
            "18.51\n"
          ]
        }
      ]
    },
    {
      "cell_type": "markdown",
      "source": [
        "### Operações com String\n",
        "\n",
        "- Armazene um e-mail em uma variável, por exemplo, homer@simpson.com e separe o nome do usuário {homer} do serviço de e-mail {simpson}"
      ],
      "metadata": {
        "id": "4qO8tIdMxB1Q"
      }
    },
    {
      "cell_type": "code",
      "execution_count": null,
      "metadata": {
        "id": "of8D-wk9piRy"
      },
      "outputs": [],
      "source": [
        "#@title Ver exemplo\n",
        "texto_complexo = 'homer@simpson.com'\n",
        "\n",
        "usuario = texto_complexo.split('@')[0] #operações com String (split gera uma lista de dados)\n",
        "dominio = texto_complexo.split('@')[1].split('.')[0]\n",
        "\n",
        "print(\"Usuário: {0} - Domínio: {1}\".format(usuario, dominio))"
      ]
    },
    {
      "cell_type": "code",
      "source": [
        "email = \"homer@simpson.com\"\n",
        "\n",
        "usuario = email.split(\"@\")[0]\n",
        "\n",
        "dominio = email.split(\"@\")[1]\n",
        "\n",
        "print(dominio)"
      ],
      "metadata": {
        "id": "N6sFoglUX-To",
        "colab": {
          "base_uri": "https://localhost:8080/"
        },
        "outputId": "8aff9601-c41a-45dc-ac1b-b462993be9c8"
      },
      "execution_count": 15,
      "outputs": [
        {
          "output_type": "stream",
          "name": "stdout",
          "text": [
            "simpson.com\n"
          ]
        }
      ]
    },
    {
      "cell_type": "markdown",
      "source": [
        "- Crie uma lista contendo os dados\n",
        "['São Paulo - SP', 'Itajaí - SC', 'Rio de Janeiro - RJ']\n",
        "- Após isso, exiba apenas os estados de cada cidade."
      ],
      "metadata": {
        "id": "lAHFue05UR16"
      }
    },
    {
      "cell_type": "code",
      "execution_count": null,
      "metadata": {
        "id": "4Owl5sz5piRy"
      },
      "outputs": [],
      "source": [
        "#@title Ver exemplo\n",
        "lista_textos = ['São Paulo - SP', 'Itajaí - SC', 'Rio de Janeiro - RJ']\n",
        "\n",
        "for um_texto in lista_textos:\n",
        "    print(um_texto.split('-')[1].split('|')[0])"
      ]
    },
    {
      "cell_type": "code",
      "source": [
        "lista = ['São Paulo - SP', 'Itajaí - SC', 'Rio de Janeiro - RJ']\n",
        "estados = []\n",
        "for i in lista:\n",
        "  estado = i.split(\"-\")[1]\n",
        "  estados.append(estado)\n",
        "print(estados)\n"
      ],
      "metadata": {
        "id": "TkYoXcB4X91D",
        "colab": {
          "base_uri": "https://localhost:8080/"
        },
        "outputId": "767d6795-898a-42fc-f255-775007aa4b2b"
      },
      "execution_count": 19,
      "outputs": [
        {
          "output_type": "stream",
          "name": "stdout",
          "text": [
            "[' SP', ' SC', ' RJ']\n"
          ]
        }
      ]
    },
    {
      "cell_type": "markdown",
      "metadata": {
        "id": "9ZLELgfrpiRz"
      },
      "source": [
        "### Coleções\n",
        "#### Listas\n",
        "\n",
        "Explore a documentação da coleção do tipo List https://www.w3schools.com/python/python_ref_list.asp e demonstre o uso de alguns destes métodos."
      ]
    },
    {
      "cell_type": "code",
      "execution_count": 26,
      "metadata": {
        "id": "Z3X9BZcCpiRz",
        "colab": {
          "base_uri": "https://localhost:8080/"
        },
        "outputId": "19d2b27a-ef2f-419d-bb9a-6a10af818bde"
      },
      "outputs": [
        {
          "output_type": "stream",
          "name": "stdout",
          "text": [
            "André Santana\n",
            "['Luiz Durão', 'Matheus', 'Caio', 'Ana', 'André Santana', 'José', 'Abner', 'Luiza']\n"
          ]
        }
      ],
      "source": [
        "#@title Ver exemplo\n",
        "nome1 = 'Luiz Durão' #variável de texto (str)\n",
        "nome2 = 'André Santana'\n",
        "\n",
        "lista_jamais_utilizada = []\n",
        "lista_nomes = [nome1, 'Matheus', 'Caio']\n",
        "lista_nomes.append('Ana') #anexa um elemento ao final da lista que invoca o método\n",
        "lista_nomes.append(nome2)\n",
        "\n",
        "lista_nomes_pool = ['José','Abner' ,'Luiza']\n",
        "lista_nomes.extend(lista_nomes_pool) #anexa uma lista ao final da lista que invoca o método\n",
        "\n",
        "print(lista_nomes[4])\n",
        "print(lista_nomes)\n",
        "\n",
        "lista_nomes.sort() #ordenar\n",
        "#print('Lista Ordenada: ', lista_nomes)\n",
        "lista_nomes.clear() #apagar\n",
        "#print('Lista vazia: ',lista_nomes)"
      ]
    },
    {
      "cell_type": "code",
      "source": [
        "lista = [1, 3, 3.24]\n",
        "\n",
        "print(lista)"
      ],
      "metadata": {
        "colab": {
          "base_uri": "https://localhost:8080/"
        },
        "id": "ecDeB2CZQELd",
        "outputId": "6342b69c-2df1-4a0e-f9ae-0bf3f0864e51"
      },
      "execution_count": 27,
      "outputs": [
        {
          "output_type": "stream",
          "name": "stdout",
          "text": [
            "[1, 3, 3.24]\n"
          ]
        }
      ]
    },
    {
      "cell_type": "code",
      "source": [
        "fruits = ['maça', 'banana', 'amora']\n",
        "\n",
        "fruits.reverse()\n",
        "\n",
        "print(fruits)\n"
      ],
      "metadata": {
        "colab": {
          "base_uri": "https://localhost:8080/"
        },
        "id": "gGOmZu12QMXx",
        "outputId": "742dce99-a03f-4525-b885-db9759b35232"
      },
      "execution_count": 33,
      "outputs": [
        {
          "output_type": "stream",
          "name": "stdout",
          "text": [
            "['amora', 'banana', 'maça']\n"
          ]
        }
      ]
    },
    {
      "cell_type": "code",
      "source": [
        "\n"
      ],
      "metadata": {
        "id": "MGFvtJaiX9WW",
        "colab": {
          "base_uri": "https://localhost:8080/"
        },
        "outputId": "bac831b7-48a9-4a72-e4d2-d783d7e34d03"
      },
      "execution_count": 25,
      "outputs": [
        {
          "output_type": "stream",
          "name": "stdout",
          "text": [
            "None\n"
          ]
        }
      ]
    },
    {
      "cell_type": "markdown",
      "metadata": {
        "id": "9hebG_aKpiRz"
      },
      "source": [
        "#### Estrutura de Repetição\n",
        "\n",
        "- Utilize um laço de repetição para exibir os nomes da lista criada no exemplo anterior."
      ]
    },
    {
      "cell_type": "code",
      "execution_count": null,
      "metadata": {
        "id": "EOVPV7jlpiRz"
      },
      "outputs": [],
      "source": [
        "#@title Ver exemplo\n",
        "for um_nome in lista_nomes:\n",
        "    print(um_nome)"
      ]
    },
    {
      "cell_type": "code",
      "source": [
        "for i in fruits:\n",
        "  print(i)"
      ],
      "metadata": {
        "colab": {
          "base_uri": "https://localhost:8080/"
        },
        "id": "eHJf8cLHRD8B",
        "outputId": "02e4cf9f-f923-436a-ad00-83dd64363ef4"
      },
      "execution_count": 34,
      "outputs": [
        {
          "output_type": "stream",
          "name": "stdout",
          "text": [
            "amora\n",
            "banana\n",
            "maça\n"
          ]
        }
      ]
    },
    {
      "cell_type": "markdown",
      "metadata": {
        "id": "L5q056AYpiR0"
      },
      "source": [
        "#### Dicionários\n",
        "\n",
        "- Dicionário é uma coleção não-ordenada, mutável e indexada. Em python, utilizamos { } para sua criação e tratamos sempre de pares de chaves e valores.\n",
        "- Os elementos podem ser acessados com [] informado a chave desejada.\n",
        "- Explore as operações de um dicionário: crie um dicionário, adicione uma nova chave, altere o conteúdo de uma chave, exiba as chaves e valores do dicionário e utilize um laço de repetição para mostrar apenas os valores deste dicionário (sem as chaves).\n",
        "\n"
      ]
    },
    {
      "cell_type": "code",
      "execution_count": null,
      "metadata": {
        "id": "odsP85q0piR0",
        "cellView": "form"
      },
      "outputs": [],
      "source": [
        "#@title Ver exemplo\n",
        "dicionario_homer = {'nome':'Homer', 'sobre_nome': 'Simpson', 'idade':39, 'cidade_natal':'Springfield'}\n",
        "print('\\nDicionário\\n',dicionario_homer)\n",
        "\n",
        "dicionario_homer['nome'] = 'Homer Jay' #para mudar um valor de uma chave ou criar uma nova chave\n",
        " \n",
        "print('\\nNome = ', dicionario_homer['nome'])\n",
        "\n",
        "#exibindo as chaves do dicionário como uma lista\n",
        "print('\\n',dicionario_homer.keys())\n",
        "\n",
        "#exibindo os valores no dicionário como uma lista\n",
        "print('\\n',dicionario_homer.values(), '\\n')\n",
        "\n",
        "#para remover um item\n",
        "dicionario_homer.pop('nome')\n",
        "\n",
        "#percorrendo o dicinionário, \"iterando as chaves\"\n",
        "for chave in dicionario_homer.values():\n",
        "    print(chave)"
      ]
    },
    {
      "cell_type": "code",
      "source": [
        "dict = {\"nome\": \"Helena\", \"idade\": 27, \"cor\": \"verde\"}\n",
        "print(dict)"
      ],
      "metadata": {
        "id": "8iCq_kWIX8lu",
        "colab": {
          "base_uri": "https://localhost:8080/"
        },
        "outputId": "7b1d3380-3691-4074-d5c6-7f86c7ce26b8"
      },
      "execution_count": 46,
      "outputs": [
        {
          "output_type": "stream",
          "name": "stdout",
          "text": [
            "{'nome': 'Helena', 'idade': 27, 'cor': 'verde'}\n"
          ]
        }
      ]
    },
    {
      "cell_type": "code",
      "source": [
        "dict[\"novachave\"] = \"teste\"\n",
        "print(dict)"
      ],
      "metadata": {
        "colab": {
          "base_uri": "https://localhost:8080/"
        },
        "id": "sXC2NKv_Tehd",
        "outputId": "0c8afc1a-24d9-47dc-a6e0-4f4217e99f7f"
      },
      "execution_count": 47,
      "outputs": [
        {
          "output_type": "stream",
          "name": "stdout",
          "text": [
            "{'nome': 'Helena', 'idade': 27, 'cor': 'verde', 'novachave': 'teste'}\n"
          ]
        }
      ]
    },
    {
      "cell_type": "code",
      "source": [
        "dict[\"Novachave\"] = dict[\"novachave\"]\n",
        "del dict[\"novachave\"]\n",
        "\n",
        "print(dict)"
      ],
      "metadata": {
        "colab": {
          "base_uri": "https://localhost:8080/"
        },
        "id": "RckGgDhgUao2",
        "outputId": "4a16fb7f-3cc5-474e-e7cd-7cb949d649db"
      },
      "execution_count": 49,
      "outputs": [
        {
          "output_type": "stream",
          "name": "stdout",
          "text": [
            "{'nome': 'Helena', 'idade': 27, 'cor': 'verde', 'Novachave': 'teste'}\n"
          ]
        }
      ]
    },
    {
      "cell_type": "code",
      "source": [
        "for i in dict.values():\n",
        "  print(i)"
      ],
      "metadata": {
        "colab": {
          "base_uri": "https://localhost:8080/"
        },
        "id": "Yf4x3GNwVlXw",
        "outputId": "5ec8ae64-5be5-4a9f-c7e0-ce6ec05390e4"
      },
      "execution_count": 50,
      "outputs": [
        {
          "output_type": "stream",
          "name": "stdout",
          "text": [
            "Helena\n",
            "27\n",
            "verde\n",
            "teste\n"
          ]
        }
      ]
    },
    {
      "cell_type": "markdown",
      "metadata": {
        "id": "sopYnFgtpiR0"
      },
      "source": [
        "### Métodos & Subrotinas\n",
        "**Criando \"Procedimentos/Subrotinas\"**\n",
        "\n",
        "- Crie um conjunto de funções com e sem parâmetros, com e sem retorno"
      ]
    },
    {
      "cell_type": "code",
      "execution_count": null,
      "metadata": {
        "id": "6XeV3owdpiR0"
      },
      "outputs": [],
      "source": [
        "#@title Ver exemplo\n",
        "def retornarNomeAleatorio() -> str:\n",
        "    return \"Rick\"\n",
        "\n",
        "def exibirSaudacaoNome(nome : str) -> None:\n",
        "    print('Olá,', nome)\n",
        "\n",
        "def somarDoisNumeros(numero1, numero2):\n",
        "    return numero1 + numero2\n",
        "\n",
        "def calcularPotencia(base, expoente):\n",
        "    return base ** expoente\n",
        "\n",
        "def separarEstadoCidade(textoCompleto):\n",
        "    resultado = textoCompleto.split('-')\n",
        "    return resultado"
      ]
    },
    {
      "cell_type": "code",
      "source": [
        ""
      ],
      "metadata": {
        "id": "Aywg3DUHX8JP"
      },
      "execution_count": null,
      "outputs": []
    },
    {
      "cell_type": "markdown",
      "metadata": {
        "id": "3a4RjRfZpiR1"
      },
      "source": [
        "**Como utilizar os métodos criados**\n",
        "\n",
        "- Inicialmente, você deve cria-los em alguma célula e \"executar\" estes procedimentos antes do seu uso.\n",
        "- Em sequência, você deve chamar o método na célula em que deseja utiliza-lo, atentado-se ao nome do método, aos parâmetros enviados (quantidade e ordem) e se este método retornará ou não alguma resposta."
      ]
    },
    {
      "cell_type": "code",
      "execution_count": null,
      "metadata": {
        "id": "y1YgpmnapiR1"
      },
      "outputs": [],
      "source": [
        "#@title Ver exemplo\n",
        "n1 = 'Homer'\n",
        "exibirSaudacaoNome(n1) #podemos utilizar uma variável\n",
        "exibirSaudacaoNome('Simpson') #ou envir um valor diretamente\n",
        "\n",
        "result = somarDoisNumeros(3,5) #podemos retornar e armazenar o resultado em uma variável\n",
        "print(somarDoisNumeros(13, 21)) #ou pegar seu retorno e diretamente \"printar na tela\"\n",
        "\n",
        "base = 2\n",
        "exp = 8\n",
        "print(calcularPotencia(base, 5)) #a variavel pode ter o mesmo nome la da função original\n",
        "print(calcularPotencia(base, exp)) #ou pode ter um nome diferente!\n",
        "\n",
        "print(separarEstadoCidade('São Paulo - SP')) #mas fique atento, a função depende de suas regras pra funcionar\n",
        "#print(separarEstadoCidade('São Paulo | SP')) #descomente o primeiro # desta linha para ver o que acontece!"
      ]
    },
    {
      "cell_type": "code",
      "source": [
        ""
      ],
      "metadata": {
        "id": "0xiZjn4eX7s3"
      },
      "execution_count": null,
      "outputs": []
    },
    {
      "cell_type": "markdown",
      "metadata": {
        "id": "D0PM7f8ApiR1"
      },
      "source": [
        "### Bibliotecas - Estatística (Pandas)\n",
        "\n",
        "1. Importe a biblioteca pandas (caso necessário, instale com: pip install pandas)\n",
        "2. Coloque seu conjunto de dados no mesmo diretório em que seu notebook foi criado\n",
        "2. Utilize pd.**read_excel**('nome.extensao') para ler planilhas do excel e pd.**read_csv**('nome.extensao') para ler arquivos csv\n",
        "\n",
        "Links Rápidos\n",
        "\n",
        "- https://pandas.pydata.org/\n",
        "- https://pandas.pydata.org/docs/reference/api/pandas.DataFrame.html\n"
      ]
    },
    {
      "cell_type": "code",
      "source": [
        "import pandas as pd\n"
      ],
      "metadata": {
        "id": "tjav4O1-XG9o"
      },
      "execution_count": 51,
      "outputs": []
    },
    {
      "cell_type": "markdown",
      "source": [
        "#### Importando um conjunto de dados\n",
        "\n",
        "- Lembre-se que o separador de um CSV pode ser diferente, neste caso, inclua delimiter = \";\" em que ; deve ser substituído pelo separador\n",
        "- Importe a os dados do arquivo olist_orders_dataset.csv em uma variável e exiba o seu conteúdo.\n",
        "- Os dados podem ser baixados em: https://www.kaggle.com/olistbr/brazilian-ecommerce\n",
        "- Todos os conjuntos de dados utilizados nos próximos exemplos estão associados aos dados da OlistBr"
      ],
      "metadata": {
        "id": "cXUIfPVAxI63"
      }
    },
    {
      "cell_type": "code",
      "execution_count": 52,
      "metadata": {
        "id": "D43morclpiR1",
        "colab": {
          "base_uri": "https://localhost:8080/",
          "height": 488
        },
        "outputId": "765d8c47-e220-413f-e46f-67ba4117b1c5"
      },
      "outputs": [
        {
          "output_type": "display_data",
          "data": {
            "text/plain": [
              "                               order_id                       customer_id  \\\n",
              "0      e481f51cbdc54678b7cc49136f2d6af7  9ef432eb6251297304e76186b10a928d   \n",
              "1      53cdb2fc8bc7dce0b6741e2150273451  b0830fb4747a6c6d20dea0b8c802d7ef   \n",
              "2      47770eb9100c2d0c44946d9cf07ec65d  41ce2a54c0b03bf3443c3d931a367089   \n",
              "3      949d5b44dbf5de918fe9c16f97b45f8a  f88197465ea7920adcdbec7375364d82   \n",
              "4      ad21c59c0840e6cb83a9ceb5573f8159  8ab97904e6daea8866dbdbc4fb7aad2c   \n",
              "...                                 ...                               ...   \n",
              "11803  eb909cbbd3171dfb60b6827c2b431309  8005f7ee9e4e94db8a679ef78edd9b7c   \n",
              "11804  d74d166d79f774ff367bfa387478155d  caef58b80b4d10cb35a11de8747584cb   \n",
              "11805  f9fcece01e53f6127dfe56deebac3329  5fd6b9027602772efd65c36c7caaa790   \n",
              "11806  5f766dfc65eff86be5b3015dbce0e2c6  f018b0b1208c22cf006962995d3caca8   \n",
              "11807  d31ccf5695e6ca12b39b5b1f2eb7f6a6  de74037ebc271b8781a9b7d703924ac3   \n",
              "\n",
              "      order_status order_purchase_timestamp    order_approved_at  \\\n",
              "0        delivered      2017-10-02 10:56:33  2017-10-02 11:07:15   \n",
              "1        delivered      2018-07-24 20:41:37  2018-07-26 03:24:27   \n",
              "2        delivered      2018-08-08 08:38:49  2018-08-08 08:55:23   \n",
              "3        delivered      2017-11-18 19:28:06  2017-11-18 19:45:59   \n",
              "4        delivered      2018-02-13 21:18:39  2018-02-13 22:20:29   \n",
              "...            ...                      ...                  ...   \n",
              "11803    delivered      2018-06-03 18:54:53  2018-06-05 04:15:15   \n",
              "11804    delivered      2018-01-16 12:38:53  2018-01-16 12:52:47   \n",
              "11805    delivered      2018-06-05 15:29:48  2018-06-05 15:48:55   \n",
              "11806    delivered      2018-04-14 18:20:05  2018-04-14 18:31:18   \n",
              "11807    delivered      2017-09-06 19:21:53  2017-09-06 20:00:39   \n",
              "\n",
              "      order_delivered_carrier_date order_delivered_customer_date  \\\n",
              "0              2017-10-04 19:55:00           2017-10-10 21:25:13   \n",
              "1              2018-07-26 14:31:00           2018-08-07 15:27:45   \n",
              "2              2018-08-08 13:50:00           2018-08-17 18:06:29   \n",
              "3              2017-11-22 13:39:59           2017-12-02 00:28:42   \n",
              "4              2018-02-14 19:46:34           2018-02-16 18:17:02   \n",
              "...                            ...                           ...   \n",
              "11803          2018-06-05 15:33:00           2018-06-14 22:52:31   \n",
              "11804          2018-01-16 21:59:08           2018-01-19 20:11:51   \n",
              "11805          2018-06-06 15:02:00           2018-06-14 13:47:43   \n",
              "11806          2018-04-17 17:22:01           2018-04-24 01:04:53   \n",
              "11807          2017-09-15 19:16:53           2017-09-26 15:27:48   \n",
              "\n",
              "      order_estimated_delivery_date  \n",
              "0               2017-10-18 00:00:00  \n",
              "1               2018-08-13 00:00:00  \n",
              "2               2018-09-04 00:00:00  \n",
              "3               2017-12-15 00:00:00  \n",
              "4               2018-02-26 00:00:00  \n",
              "...                             ...  \n",
              "11803           2018-07-12 00:00:00  \n",
              "11804           2018-02-07 00:00:00  \n",
              "11805           2018-07-26 00:00:00  \n",
              "11806           2018-05-21 00:00:00  \n",
              "11807                    2017-10-02  \n",
              "\n",
              "[11808 rows x 8 columns]"
            ],
            "text/html": [
              "\n",
              "  <div id=\"df-3831f1e1-a9ce-41fa-8c3a-a9e3836b4075\">\n",
              "    <div class=\"colab-df-container\">\n",
              "      <div>\n",
              "<style scoped>\n",
              "    .dataframe tbody tr th:only-of-type {\n",
              "        vertical-align: middle;\n",
              "    }\n",
              "\n",
              "    .dataframe tbody tr th {\n",
              "        vertical-align: top;\n",
              "    }\n",
              "\n",
              "    .dataframe thead th {\n",
              "        text-align: right;\n",
              "    }\n",
              "</style>\n",
              "<table border=\"1\" class=\"dataframe\">\n",
              "  <thead>\n",
              "    <tr style=\"text-align: right;\">\n",
              "      <th></th>\n",
              "      <th>order_id</th>\n",
              "      <th>customer_id</th>\n",
              "      <th>order_status</th>\n",
              "      <th>order_purchase_timestamp</th>\n",
              "      <th>order_approved_at</th>\n",
              "      <th>order_delivered_carrier_date</th>\n",
              "      <th>order_delivered_customer_date</th>\n",
              "      <th>order_estimated_delivery_date</th>\n",
              "    </tr>\n",
              "  </thead>\n",
              "  <tbody>\n",
              "    <tr>\n",
              "      <th>0</th>\n",
              "      <td>e481f51cbdc54678b7cc49136f2d6af7</td>\n",
              "      <td>9ef432eb6251297304e76186b10a928d</td>\n",
              "      <td>delivered</td>\n",
              "      <td>2017-10-02 10:56:33</td>\n",
              "      <td>2017-10-02 11:07:15</td>\n",
              "      <td>2017-10-04 19:55:00</td>\n",
              "      <td>2017-10-10 21:25:13</td>\n",
              "      <td>2017-10-18 00:00:00</td>\n",
              "    </tr>\n",
              "    <tr>\n",
              "      <th>1</th>\n",
              "      <td>53cdb2fc8bc7dce0b6741e2150273451</td>\n",
              "      <td>b0830fb4747a6c6d20dea0b8c802d7ef</td>\n",
              "      <td>delivered</td>\n",
              "      <td>2018-07-24 20:41:37</td>\n",
              "      <td>2018-07-26 03:24:27</td>\n",
              "      <td>2018-07-26 14:31:00</td>\n",
              "      <td>2018-08-07 15:27:45</td>\n",
              "      <td>2018-08-13 00:00:00</td>\n",
              "    </tr>\n",
              "    <tr>\n",
              "      <th>2</th>\n",
              "      <td>47770eb9100c2d0c44946d9cf07ec65d</td>\n",
              "      <td>41ce2a54c0b03bf3443c3d931a367089</td>\n",
              "      <td>delivered</td>\n",
              "      <td>2018-08-08 08:38:49</td>\n",
              "      <td>2018-08-08 08:55:23</td>\n",
              "      <td>2018-08-08 13:50:00</td>\n",
              "      <td>2018-08-17 18:06:29</td>\n",
              "      <td>2018-09-04 00:00:00</td>\n",
              "    </tr>\n",
              "    <tr>\n",
              "      <th>3</th>\n",
              "      <td>949d5b44dbf5de918fe9c16f97b45f8a</td>\n",
              "      <td>f88197465ea7920adcdbec7375364d82</td>\n",
              "      <td>delivered</td>\n",
              "      <td>2017-11-18 19:28:06</td>\n",
              "      <td>2017-11-18 19:45:59</td>\n",
              "      <td>2017-11-22 13:39:59</td>\n",
              "      <td>2017-12-02 00:28:42</td>\n",
              "      <td>2017-12-15 00:00:00</td>\n",
              "    </tr>\n",
              "    <tr>\n",
              "      <th>4</th>\n",
              "      <td>ad21c59c0840e6cb83a9ceb5573f8159</td>\n",
              "      <td>8ab97904e6daea8866dbdbc4fb7aad2c</td>\n",
              "      <td>delivered</td>\n",
              "      <td>2018-02-13 21:18:39</td>\n",
              "      <td>2018-02-13 22:20:29</td>\n",
              "      <td>2018-02-14 19:46:34</td>\n",
              "      <td>2018-02-16 18:17:02</td>\n",
              "      <td>2018-02-26 00:00:00</td>\n",
              "    </tr>\n",
              "    <tr>\n",
              "      <th>...</th>\n",
              "      <td>...</td>\n",
              "      <td>...</td>\n",
              "      <td>...</td>\n",
              "      <td>...</td>\n",
              "      <td>...</td>\n",
              "      <td>...</td>\n",
              "      <td>...</td>\n",
              "      <td>...</td>\n",
              "    </tr>\n",
              "    <tr>\n",
              "      <th>11803</th>\n",
              "      <td>eb909cbbd3171dfb60b6827c2b431309</td>\n",
              "      <td>8005f7ee9e4e94db8a679ef78edd9b7c</td>\n",
              "      <td>delivered</td>\n",
              "      <td>2018-06-03 18:54:53</td>\n",
              "      <td>2018-06-05 04:15:15</td>\n",
              "      <td>2018-06-05 15:33:00</td>\n",
              "      <td>2018-06-14 22:52:31</td>\n",
              "      <td>2018-07-12 00:00:00</td>\n",
              "    </tr>\n",
              "    <tr>\n",
              "      <th>11804</th>\n",
              "      <td>d74d166d79f774ff367bfa387478155d</td>\n",
              "      <td>caef58b80b4d10cb35a11de8747584cb</td>\n",
              "      <td>delivered</td>\n",
              "      <td>2018-01-16 12:38:53</td>\n",
              "      <td>2018-01-16 12:52:47</td>\n",
              "      <td>2018-01-16 21:59:08</td>\n",
              "      <td>2018-01-19 20:11:51</td>\n",
              "      <td>2018-02-07 00:00:00</td>\n",
              "    </tr>\n",
              "    <tr>\n",
              "      <th>11805</th>\n",
              "      <td>f9fcece01e53f6127dfe56deebac3329</td>\n",
              "      <td>5fd6b9027602772efd65c36c7caaa790</td>\n",
              "      <td>delivered</td>\n",
              "      <td>2018-06-05 15:29:48</td>\n",
              "      <td>2018-06-05 15:48:55</td>\n",
              "      <td>2018-06-06 15:02:00</td>\n",
              "      <td>2018-06-14 13:47:43</td>\n",
              "      <td>2018-07-26 00:00:00</td>\n",
              "    </tr>\n",
              "    <tr>\n",
              "      <th>11806</th>\n",
              "      <td>5f766dfc65eff86be5b3015dbce0e2c6</td>\n",
              "      <td>f018b0b1208c22cf006962995d3caca8</td>\n",
              "      <td>delivered</td>\n",
              "      <td>2018-04-14 18:20:05</td>\n",
              "      <td>2018-04-14 18:31:18</td>\n",
              "      <td>2018-04-17 17:22:01</td>\n",
              "      <td>2018-04-24 01:04:53</td>\n",
              "      <td>2018-05-21 00:00:00</td>\n",
              "    </tr>\n",
              "    <tr>\n",
              "      <th>11807</th>\n",
              "      <td>d31ccf5695e6ca12b39b5b1f2eb7f6a6</td>\n",
              "      <td>de74037ebc271b8781a9b7d703924ac3</td>\n",
              "      <td>delivered</td>\n",
              "      <td>2017-09-06 19:21:53</td>\n",
              "      <td>2017-09-06 20:00:39</td>\n",
              "      <td>2017-09-15 19:16:53</td>\n",
              "      <td>2017-09-26 15:27:48</td>\n",
              "      <td>2017-10-02</td>\n",
              "    </tr>\n",
              "  </tbody>\n",
              "</table>\n",
              "<p>11808 rows × 8 columns</p>\n",
              "</div>\n",
              "      <button class=\"colab-df-convert\" onclick=\"convertToInteractive('df-3831f1e1-a9ce-41fa-8c3a-a9e3836b4075')\"\n",
              "              title=\"Convert this dataframe to an interactive table.\"\n",
              "              style=\"display:none;\">\n",
              "        \n",
              "  <svg xmlns=\"http://www.w3.org/2000/svg\" height=\"24px\"viewBox=\"0 0 24 24\"\n",
              "       width=\"24px\">\n",
              "    <path d=\"M0 0h24v24H0V0z\" fill=\"none\"/>\n",
              "    <path d=\"M18.56 5.44l.94 2.06.94-2.06 2.06-.94-2.06-.94-.94-2.06-.94 2.06-2.06.94zm-11 1L8.5 8.5l.94-2.06 2.06-.94-2.06-.94L8.5 2.5l-.94 2.06-2.06.94zm10 10l.94 2.06.94-2.06 2.06-.94-2.06-.94-.94-2.06-.94 2.06-2.06.94z\"/><path d=\"M17.41 7.96l-1.37-1.37c-.4-.4-.92-.59-1.43-.59-.52 0-1.04.2-1.43.59L10.3 9.45l-7.72 7.72c-.78.78-.78 2.05 0 2.83L4 21.41c.39.39.9.59 1.41.59.51 0 1.02-.2 1.41-.59l7.78-7.78 2.81-2.81c.8-.78.8-2.07 0-2.86zM5.41 20L4 18.59l7.72-7.72 1.47 1.35L5.41 20z\"/>\n",
              "  </svg>\n",
              "      </button>\n",
              "      \n",
              "  <style>\n",
              "    .colab-df-container {\n",
              "      display:flex;\n",
              "      flex-wrap:wrap;\n",
              "      gap: 12px;\n",
              "    }\n",
              "\n",
              "    .colab-df-convert {\n",
              "      background-color: #E8F0FE;\n",
              "      border: none;\n",
              "      border-radius: 50%;\n",
              "      cursor: pointer;\n",
              "      display: none;\n",
              "      fill: #1967D2;\n",
              "      height: 32px;\n",
              "      padding: 0 0 0 0;\n",
              "      width: 32px;\n",
              "    }\n",
              "\n",
              "    .colab-df-convert:hover {\n",
              "      background-color: #E2EBFA;\n",
              "      box-shadow: 0px 1px 2px rgba(60, 64, 67, 0.3), 0px 1px 3px 1px rgba(60, 64, 67, 0.15);\n",
              "      fill: #174EA6;\n",
              "    }\n",
              "\n",
              "    [theme=dark] .colab-df-convert {\n",
              "      background-color: #3B4455;\n",
              "      fill: #D2E3FC;\n",
              "    }\n",
              "\n",
              "    [theme=dark] .colab-df-convert:hover {\n",
              "      background-color: #434B5C;\n",
              "      box-shadow: 0px 1px 3px 1px rgba(0, 0, 0, 0.15);\n",
              "      filter: drop-shadow(0px 1px 2px rgba(0, 0, 0, 0.3));\n",
              "      fill: #FFFFFF;\n",
              "    }\n",
              "  </style>\n",
              "\n",
              "      <script>\n",
              "        const buttonEl =\n",
              "          document.querySelector('#df-3831f1e1-a9ce-41fa-8c3a-a9e3836b4075 button.colab-df-convert');\n",
              "        buttonEl.style.display =\n",
              "          google.colab.kernel.accessAllowed ? 'block' : 'none';\n",
              "\n",
              "        async function convertToInteractive(key) {\n",
              "          const element = document.querySelector('#df-3831f1e1-a9ce-41fa-8c3a-a9e3836b4075');\n",
              "          const dataTable =\n",
              "            await google.colab.kernel.invokeFunction('convertToInteractive',\n",
              "                                                     [key], {});\n",
              "          if (!dataTable) return;\n",
              "\n",
              "          const docLinkHtml = 'Like what you see? Visit the ' +\n",
              "            '<a target=\"_blank\" href=https://colab.research.google.com/notebooks/data_table.ipynb>data table notebook</a>'\n",
              "            + ' to learn more about interactive tables.';\n",
              "          element.innerHTML = '';\n",
              "          dataTable['output_type'] = 'display_data';\n",
              "          await google.colab.output.renderOutput(dataTable, element);\n",
              "          const docLink = document.createElement('div');\n",
              "          docLink.innerHTML = docLinkHtml;\n",
              "          element.appendChild(docLink);\n",
              "        }\n",
              "      </script>\n",
              "    </div>\n",
              "  </div>\n",
              "  "
            ]
          },
          "metadata": {}
        }
      ],
      "source": [
        "#@title Ver exemplo\n",
        "import pandas as pd\n",
        "\n",
        "df = pd.read_csv('olist_orders_dataset.csv') #faz a leitura de uma planilha, dado o seu caminho\n",
        "display(df) #exibe os resultados da planilha"
      ]
    },
    {
      "cell_type": "code",
      "source": [
        ""
      ],
      "metadata": {
        "id": "huwq0-0GX6ZW"
      },
      "execution_count": null,
      "outputs": []
    },
    {
      "cell_type": "markdown",
      "source": [
        "#### Percorrendo um DataFrame\n",
        "\n",
        "- Percorra um DataFrame, mostrando o 'customer_id' das 10 primeiras tuplas (linhas) da base de dados\n",
        "- Dica: iterrows()"
      ],
      "metadata": {
        "id": "dlfx2qxPt5gb"
      }
    },
    {
      "cell_type": "code",
      "execution_count": 55,
      "metadata": {
        "id": "0B6ypwuupiR2",
        "colab": {
          "base_uri": "https://localhost:8080/",
          "height": 203
        },
        "outputId": "7ca7db5a-d801-4987-85b9-a33f4bb32471"
      },
      "outputs": [
        {
          "output_type": "display_data",
          "data": {
            "text/plain": [
              "'9ef432eb6251297304e76186b10a928d'"
            ],
            "application/vnd.google.colaboratory.intrinsic+json": {
              "type": "string"
            }
          },
          "metadata": {}
        },
        {
          "output_type": "display_data",
          "data": {
            "text/plain": [
              "'b0830fb4747a6c6d20dea0b8c802d7ef'"
            ],
            "application/vnd.google.colaboratory.intrinsic+json": {
              "type": "string"
            }
          },
          "metadata": {}
        },
        {
          "output_type": "display_data",
          "data": {
            "text/plain": [
              "'41ce2a54c0b03bf3443c3d931a367089'"
            ],
            "application/vnd.google.colaboratory.intrinsic+json": {
              "type": "string"
            }
          },
          "metadata": {}
        },
        {
          "output_type": "display_data",
          "data": {
            "text/plain": [
              "'f88197465ea7920adcdbec7375364d82'"
            ],
            "application/vnd.google.colaboratory.intrinsic+json": {
              "type": "string"
            }
          },
          "metadata": {}
        },
        {
          "output_type": "display_data",
          "data": {
            "text/plain": [
              "'8ab97904e6daea8866dbdbc4fb7aad2c'"
            ],
            "application/vnd.google.colaboratory.intrinsic+json": {
              "type": "string"
            }
          },
          "metadata": {}
        },
        {
          "output_type": "display_data",
          "data": {
            "text/plain": [
              "'503740e9ca751ccdda7ba28e9ab8f608'"
            ],
            "application/vnd.google.colaboratory.intrinsic+json": {
              "type": "string"
            }
          },
          "metadata": {}
        },
        {
          "output_type": "display_data",
          "data": {
            "text/plain": [
              "'ed0271e0b7da060a393796590e7b737a'"
            ],
            "application/vnd.google.colaboratory.intrinsic+json": {
              "type": "string"
            }
          },
          "metadata": {}
        },
        {
          "output_type": "display_data",
          "data": {
            "text/plain": [
              "'9bdf08b4b3b52b5526ff42d37d47f222'"
            ],
            "application/vnd.google.colaboratory.intrinsic+json": {
              "type": "string"
            }
          },
          "metadata": {}
        },
        {
          "output_type": "display_data",
          "data": {
            "text/plain": [
              "'f54a9f0e6b351c431402b8461ea51999'"
            ],
            "application/vnd.google.colaboratory.intrinsic+json": {
              "type": "string"
            }
          },
          "metadata": {}
        },
        {
          "output_type": "display_data",
          "data": {
            "text/plain": [
              "'31ad1d1b63eb9962463f764d4e6e0c9d'"
            ],
            "application/vnd.google.colaboratory.intrinsic+json": {
              "type": "string"
            }
          },
          "metadata": {}
        }
      ],
      "source": [
        "#@title Ver exemplo\n",
        "for index, row in df.iterrows(): #percorrer cada uma das linhas do DataFrame, acessando uma coluna específica para os dez primeiros elementos\n",
        "    display(row['customer_id'])\n",
        "    if index == 9:\n",
        "      break"
      ]
    },
    {
      "cell_type": "code",
      "source": [
        ""
      ],
      "metadata": {
        "id": "uWav52zBX57F"
      },
      "execution_count": null,
      "outputs": []
    },
    {
      "cell_type": "markdown",
      "metadata": {
        "id": "Iad-4088piR2"
      },
      "source": [
        "#### Extraíndo uma Serie do DataFrame\n",
        "- Para acessar apenas uma coluna, extraindo uma Serie do DataFrame, utilize ['identificado_o_header_aqui']\n",
        "- Caso precise ver quais os nomes dos 'Headers', imprima as chaves de seu DataFrame\n",
        "- Importe o arquivo de dados olist_order_payments_dataset.csv em uma variável, exiba-o e em seguida, exiba somente a coluna 'payment_value'"
      ]
    },
    {
      "cell_type": "code",
      "execution_count": null,
      "metadata": {
        "id": "CQSQLjs1piR2"
      },
      "outputs": [],
      "source": [
        "#@title Ver exemplo\n",
        "df_payments = pd.read_csv(\"olist_order_payments_dataset.csv\")\n",
        "display(df_payments)\n",
        "\n",
        "#para ver as chaves\n",
        "print('\\n\\nNomes dos Headers\\n\\n',df_payments.keys(), \"\\n\")\n",
        "\n",
        "df_payments_payvalue = df_payments['payment_value']\n",
        "display(df_payments_payvalue) ##temos apenas uma das colunas aqui!\n",
        "\n"
      ]
    },
    {
      "cell_type": "code",
      "source": [
        ""
      ],
      "metadata": {
        "id": "4OQnUtvnX5fs"
      },
      "execution_count": null,
      "outputs": []
    },
    {
      "cell_type": "markdown",
      "source": [
        "#### Identificando valores únicos em uma Series\n",
        "\n",
        "- Utilize os dados do conjunto olist_order_payments_dataset.csv (o mesmo do exemplo anterior) e demonstre os valores únicos para a coluna \"payment_type\"\"\n"
      ],
      "metadata": {
        "id": "87BXE1S6fKB4"
      }
    },
    {
      "cell_type": "code",
      "source": [
        "#@title Ver exemplo\n",
        "import pandas as pd\n",
        "df = pd.read_csv(\"olist_order_payments_dataset.csv\")\n",
        "\n",
        "print(df[\"payment_type\"].unique())"
      ],
      "metadata": {
        "id": "GGNlxIf9fRTH",
        "cellView": "form"
      },
      "execution_count": null,
      "outputs": []
    },
    {
      "cell_type": "code",
      "source": [
        ""
      ],
      "metadata": {
        "id": "tBhJw8JggOdJ"
      },
      "execution_count": null,
      "outputs": []
    },
    {
      "cell_type": "markdown",
      "source": [
        "#### Contando valores únicos em uma Series\n",
        "\n",
        "- Utilize os dados do conjunto olist_order_payments_dataset.csv (o mesmo do exemplo anterior) e identifique a quantidade de elementos recorrentes (contagem) para a coluna \"payment_type\""
      ],
      "metadata": {
        "id": "ETIxt_NlgfUP"
      }
    },
    {
      "cell_type": "code",
      "source": [
        "#@title Ver exemplo\n",
        "import pandas as pd\n",
        "df = pd.read_csv(\"olist_order_payments_dataset.csv\")\n",
        "\n",
        "print(df[\"payment_type\"].value_counts())"
      ],
      "metadata": {
        "cellView": "form",
        "id": "qcWwRpYcgnjX"
      },
      "execution_count": null,
      "outputs": []
    },
    {
      "cell_type": "code",
      "source": [
        ""
      ],
      "metadata": {
        "id": "CJwOnjsKgxeK"
      },
      "execution_count": null,
      "outputs": []
    },
    {
      "cell_type": "markdown",
      "metadata": {
        "id": "PkKkjLeOpiR2"
      },
      "source": [
        "#### Algumas funções importantes para DataFrame/Series\n",
        "\n",
        "Sr.No.|Function|Description|\n",
        "------|--------|-----------|\n",
        "1|count()|Number of non-null observations|\n",
        "2|sum()|Sum of values|\n",
        "3|mean()|Mean of Values|\n",
        "4|median()|Median of Values|\n",
        "5|mode()|Mode of values|\n",
        "6|std()|Standard Deviation of the Values|\n",
        "7|min()|Minimum Value|\n",
        "8|max()|Maximum Value|\n",
        "9|abs()|Absolute Value|\n",
        "10|prod()|Product of Values|\n",
        "11|cumsum()|Cumulative Sum|\n",
        "12|cumprod()|Cumulative Product|\n",
        "13|describe()|function computes a summary of statistics pertaining to the DataFrame columns.|\n",
        "\n",
        "- Importe o conjunto de dados olist_order_payments_dataset.csv e utilize o método describe para a coluna 'payment_value'.  "
      ]
    },
    {
      "cell_type": "code",
      "execution_count": null,
      "metadata": {
        "id": "HCPY1YcApiR2",
        "cellView": "form"
      },
      "outputs": [],
      "source": [
        "#@title Ver exemplo\n",
        "df_payments = pd.read_csv(\"olist_order_payments_dataset.csv\")\n",
        "df_payments_payvalue = df_payments['payment_value']\n",
        "\n",
        "print('\\nMédia:', df_payments_payvalue.mean())\n",
        "print('\\nDesvio Padrão:', df_payments_payvalue.std())\n",
        "print('\\nModa:', df_payments_payvalue.mode())\n",
        "print('\\nDados Estatísticos:', df_payments_payvalue.describe())"
      ]
    },
    {
      "cell_type": "code",
      "source": [
        ""
      ],
      "metadata": {
        "id": "rQhLePkhX41f"
      },
      "execution_count": null,
      "outputs": []
    },
    {
      "cell_type": "markdown",
      "metadata": {
        "id": "GF-pmHFfpiR3"
      },
      "source": [
        "#### SubConjunto - Pandas\n",
        "- Caso seja do seu interesse extrair um subconjunto de dados de um DataFrame, com base em uma regra, utilize os operadores relacionais\n",
        "\n",
        "Operador|Descrição|\n",
        "--------|---------|\n",
        "==|igual|\n",
        "!=|diferente|\n",
        ">|maior|\n",
        "<|menor|\n",
        ">=|maior ou igual|\n",
        "<=|menor ou igual|\n",
        "\n",
        "- Crie um subconjunto de dados, contendo apenas os pagamentos realizados com \"credit_card\". Para isso, utilize o conjunto de dados olist_order_payments_dataset.csv\n"
      ]
    },
    {
      "cell_type": "code",
      "execution_count": null,
      "metadata": {
        "id": "GOpJSiStpiR3",
        "cellView": "form"
      },
      "outputs": [],
      "source": [
        "#@title Ver exemplo\n",
        "df_payments = pd.read_csv(\"olist_order_payments_dataset.csv\")\n",
        "\n",
        "regra = df_payments.payment_type == 'credit_card' #podemos gerar uma regra que \"verificará\" todo data frame\n",
        "display('\\nRegras\\n',df_payments[regra])\n",
        "\n"
      ]
    },
    {
      "cell_type": "code",
      "source": [
        ""
      ],
      "metadata": {
        "id": "74N_w-8IX3SG"
      },
      "execution_count": null,
      "outputs": []
    },
    {
      "cell_type": "markdown",
      "metadata": {
        "id": "zVmFXKgipiR2"
      },
      "source": [
        "#### Criando um DataFrame do zero\n",
        "\n",
        "- Crie um dataframe do zero (neste exemplo vamos usar um dicionário)"
      ]
    },
    {
      "cell_type": "code",
      "execution_count": null,
      "metadata": {
        "id": "zbTyHbzcpiR3",
        "cellView": "form"
      },
      "outputs": [],
      "source": [
        "#@title Ver exemplo\n",
        "import pandas as pd \n",
        "  \n",
        "# inicializando as listas\n",
        "dados = [\n",
        "    ['Marge', 10], \n",
        "    ['Bart', 5.5], \n",
        "    ['Lisa', 9.5]\n",
        "]  #cada elemento da lista é uma lista com todos os dados da \"linha\"\n",
        "cabecalho = ['Nome', 'Nota'] #titulos das colunas\n",
        "  \n",
        "# Create the pandas DataFrame \n",
        "df = pd.DataFrame(data = dados, columns = cabecalho) #neste caso, como esta não é a ordem correta dos parâmetros, podemos \"forçar seu nome\"\n",
        "  \n",
        "# print dataframe. \n",
        "display(df)\n",
        "\n",
        "#Extra! Criando uma planilha do excel com estes dados\n",
        "df.to_excel('alunos_notas.xlsx',index = False) \n",
        "\n",
        "#Extra! Criando uma planilha csv com estes dados\n",
        "df.to_csv('alunos_notas.csv', index = False) #remove o indice\n",
        "\n",
        "#Extra! Criando uma planilha csv com estes dados\n",
        "df.to_csv('alunos_notas_2.csv', index = True) #não remove o indice\n",
        "\n",
        "regras = df.Nota >= 6.0\n",
        "display(df[df.Nota >= 6.0])"
      ]
    },
    {
      "cell_type": "code",
      "source": [
        ""
      ],
      "metadata": {
        "id": "MWsqsFB2X4TK"
      },
      "execution_count": null,
      "outputs": []
    },
    {
      "cell_type": "markdown",
      "metadata": {
        "id": "r4E5mLZcpiR3"
      },
      "source": [
        "### Bibliotecas - Gráfica (Matplotlib)\n",
        "\n",
        "- Utulize um conjunto de listas para plotar um gráfico utilizando a biblioteca MatPlotLib"
      ]
    },
    {
      "cell_type": "code",
      "execution_count": null,
      "metadata": {
        "id": "aufhjjRqpiR3",
        "cellView": "form"
      },
      "outputs": [],
      "source": [
        "#@title Ver exemplo\n",
        "import matplotlib.pyplot as plt\n",
        "\n",
        "medias = [5.4, 6.7, 5.2, 8.5, 9.5]\n",
        "anos = list(range(2016, 2021))\n",
        "\n",
        "plt.plot(anos, medias)\n",
        "plt.show()"
      ]
    },
    {
      "cell_type": "code",
      "source": [
        ""
      ],
      "metadata": {
        "id": "CX_sfEazX24T"
      },
      "execution_count": null,
      "outputs": []
    }
  ],
  "metadata": {
    "kernelspec": {
      "display_name": "Python 3",
      "language": "python",
      "name": "python3"
    },
    "language_info": {
      "codemirror_mode": {
        "name": "ipython",
        "version": 3
      },
      "file_extension": ".py",
      "mimetype": "text/x-python",
      "name": "python",
      "nbconvert_exporter": "python",
      "pygments_lexer": "ipython3",
      "version": "3.7.4"
    },
    "colab": {
      "name": "Revisao.ipynb",
      "provenance": [],
      "include_colab_link": true
    }
  },
  "nbformat": 4,
  "nbformat_minor": 0
}